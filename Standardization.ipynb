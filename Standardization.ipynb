{
  "nbformat": 4,
  "nbformat_minor": 0,
  "metadata": {
    "colab": {
      "provenance": []
    },
    "kernelspec": {
      "name": "python3",
      "display_name": "Python 3"
    },
    "language_info": {
      "name": "python"
    }
  },
  "cells": [
    {
      "cell_type": "markdown",
      "source": [
        "#**Feature Scaling**"
      ],
      "metadata": {
        "id": "srVOz6ceqB2a"
      }
    },
    {
      "cell_type": "markdown",
      "source": [
        "Standardization is a part of Feature Scaling. **What is Feature Scaling?**\n",
        "\n",
        "* Feature Scaling is a technique to standardize the independent features present in the data in a fixed range.\n",
        "\n",
        "* It basically brings the data to the same range to make better predictions and outcomes."
      ],
      "metadata": {
        "id": "EO31MtSPmiS4"
      }
    },
    {
      "cell_type": "markdown",
      "source": [
        "**Why do we need Feature Scaling?**\n",
        "\n",
        "We need feature scaling because while using and working with ML models we need the independent variables to be close or in a certain range so that the logic of the ML model can be applied correctly.\n",
        "\n",
        "Also, when the data is not in the same scale, it is very difficult to compare the data and think of an possibly correct outcome even in problems like regression."
      ],
      "metadata": {
        "id": "3wuZWqN6miwL"
      }
    },
    {
      "cell_type": "markdown",
      "source": [
        "**Types of Feature Scaling:**\n",
        "\n",
        "* Standardization\n",
        "\n",
        "* Normalization (minmax scaler and robust scaler)"
      ],
      "metadata": {
        "id": "ttIfl7vdpmJa"
      }
    },
    {
      "cell_type": "markdown",
      "source": [
        "#**Standardization**"
      ],
      "metadata": {
        "id": "iXutsX_9mh3c"
      }
    },
    {
      "cell_type": "markdown",
      "source": [
        "* It is also known as Z-score Normalization.\n",
        "\n",
        "*  ![image.png](data:image/png;base64,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)\n",
        "\n",
        "* A fact about standardized values is when we get a value for each element in the feature after appyling standardization, the mean of the new column formed will be **zero** and the standard deviation will be **1**.\n",
        "\n",
        "* Another important point is, when the data is standardized the data in the plot gets closer to the origin because the mean becomes zero, also the size of the data is reduced from all the axes to 1 because the standard deviation is 1. \n",
        "\n",
        "* The shifting of data towards the origin due to mean being zero is called as **Mean centric data**.\n",
        "\n",
        "* If the Standard deviation is 1 or more, the size of the data reduces or squeeses and if it is 0.5, the size of the data would rather increse."
      ],
      "metadata": {
        "id": "pRUZLvsCpmdV"
      }
    },
    {
      "cell_type": "markdown",
      "source": [
        "## Code:"
      ],
      "metadata": {
        "id": "MwPCj5TdrYGT"
      }
    },
    {
      "cell_type": "code",
      "source": [
        "import numpy as np\n",
        "import matplotlib.pyplot as plt\n",
        "import pandas as pd\n",
        "import seaborn as sns\n",
        "from google.colab import files"
      ],
      "metadata": {
        "id": "BaNlurVXuA3L"
      },
      "execution_count": 45,
      "outputs": []
    },
    {
      "cell_type": "code",
      "source": [
        "files.upload()"
      ],
      "metadata": {
        "colab": {
          "base_uri": "https://localhost:8080/",
          "height": 127
        },
        "id": "IGS8Ryf3uNPC",
        "outputId": "b27b17f2-51c8-4eaf-dc8e-bccfdf079942"
      },
      "execution_count": 46,
      "outputs": [
        {
          "output_type": "display_data",
          "data": {
            "text/plain": [
              "<IPython.core.display.HTML object>"
            ],
            "text/html": [
              "\n",
              "     <input type=\"file\" id=\"files-865aa719-e2e9-4989-a078-3b7dca028da0\" name=\"files[]\" multiple disabled\n",
              "        style=\"border:none\" />\n",
              "     <output id=\"result-865aa719-e2e9-4989-a078-3b7dca028da0\">\n",
              "      Upload widget is only available when the cell has been executed in the\n",
              "      current browser session. Please rerun this cell to enable.\n",
              "      </output>\n",
              "      <script>// Copyright 2017 Google LLC\n",
              "//\n",
              "// Licensed under the Apache License, Version 2.0 (the \"License\");\n",
              "// you may not use this file except in compliance with the License.\n",
              "// You may obtain a copy of the License at\n",
              "//\n",
              "//      http://www.apache.org/licenses/LICENSE-2.0\n",
              "//\n",
              "// Unless required by applicable law or agreed to in writing, software\n",
              "// distributed under the License is distributed on an \"AS IS\" BASIS,\n",
              "// WITHOUT WARRANTIES OR CONDITIONS OF ANY KIND, either express or implied.\n",
              "// See the License for the specific language governing permissions and\n",
              "// limitations under the License.\n",
              "\n",
              "/**\n",
              " * @fileoverview Helpers for google.colab Python module.\n",
              " */\n",
              "(function(scope) {\n",
              "function span(text, styleAttributes = {}) {\n",
              "  const element = document.createElement('span');\n",
              "  element.textContent = text;\n",
              "  for (const key of Object.keys(styleAttributes)) {\n",
              "    element.style[key] = styleAttributes[key];\n",
              "  }\n",
              "  return element;\n",
              "}\n",
              "\n",
              "// Max number of bytes which will be uploaded at a time.\n",
              "const MAX_PAYLOAD_SIZE = 100 * 1024;\n",
              "\n",
              "function _uploadFiles(inputId, outputId) {\n",
              "  const steps = uploadFilesStep(inputId, outputId);\n",
              "  const outputElement = document.getElementById(outputId);\n",
              "  // Cache steps on the outputElement to make it available for the next call\n",
              "  // to uploadFilesContinue from Python.\n",
              "  outputElement.steps = steps;\n",
              "\n",
              "  return _uploadFilesContinue(outputId);\n",
              "}\n",
              "\n",
              "// This is roughly an async generator (not supported in the browser yet),\n",
              "// where there are multiple asynchronous steps and the Python side is going\n",
              "// to poll for completion of each step.\n",
              "// This uses a Promise to block the python side on completion of each step,\n",
              "// then passes the result of the previous step as the input to the next step.\n",
              "function _uploadFilesContinue(outputId) {\n",
              "  const outputElement = document.getElementById(outputId);\n",
              "  const steps = outputElement.steps;\n",
              "\n",
              "  const next = steps.next(outputElement.lastPromiseValue);\n",
              "  return Promise.resolve(next.value.promise).then((value) => {\n",
              "    // Cache the last promise value to make it available to the next\n",
              "    // step of the generator.\n",
              "    outputElement.lastPromiseValue = value;\n",
              "    return next.value.response;\n",
              "  });\n",
              "}\n",
              "\n",
              "/**\n",
              " * Generator function which is called between each async step of the upload\n",
              " * process.\n",
              " * @param {string} inputId Element ID of the input file picker element.\n",
              " * @param {string} outputId Element ID of the output display.\n",
              " * @return {!Iterable<!Object>} Iterable of next steps.\n",
              " */\n",
              "function* uploadFilesStep(inputId, outputId) {\n",
              "  const inputElement = document.getElementById(inputId);\n",
              "  inputElement.disabled = false;\n",
              "\n",
              "  const outputElement = document.getElementById(outputId);\n",
              "  outputElement.innerHTML = '';\n",
              "\n",
              "  const pickedPromise = new Promise((resolve) => {\n",
              "    inputElement.addEventListener('change', (e) => {\n",
              "      resolve(e.target.files);\n",
              "    });\n",
              "  });\n",
              "\n",
              "  const cancel = document.createElement('button');\n",
              "  inputElement.parentElement.appendChild(cancel);\n",
              "  cancel.textContent = 'Cancel upload';\n",
              "  const cancelPromise = new Promise((resolve) => {\n",
              "    cancel.onclick = () => {\n",
              "      resolve(null);\n",
              "    };\n",
              "  });\n",
              "\n",
              "  // Wait for the user to pick the files.\n",
              "  const files = yield {\n",
              "    promise: Promise.race([pickedPromise, cancelPromise]),\n",
              "    response: {\n",
              "      action: 'starting',\n",
              "    }\n",
              "  };\n",
              "\n",
              "  cancel.remove();\n",
              "\n",
              "  // Disable the input element since further picks are not allowed.\n",
              "  inputElement.disabled = true;\n",
              "\n",
              "  if (!files) {\n",
              "    return {\n",
              "      response: {\n",
              "        action: 'complete',\n",
              "      }\n",
              "    };\n",
              "  }\n",
              "\n",
              "  for (const file of files) {\n",
              "    const li = document.createElement('li');\n",
              "    li.append(span(file.name, {fontWeight: 'bold'}));\n",
              "    li.append(span(\n",
              "        `(${file.type || 'n/a'}) - ${file.size} bytes, ` +\n",
              "        `last modified: ${\n",
              "            file.lastModifiedDate ? file.lastModifiedDate.toLocaleDateString() :\n",
              "                                    'n/a'} - `));\n",
              "    const percent = span('0% done');\n",
              "    li.appendChild(percent);\n",
              "\n",
              "    outputElement.appendChild(li);\n",
              "\n",
              "    const fileDataPromise = new Promise((resolve) => {\n",
              "      const reader = new FileReader();\n",
              "      reader.onload = (e) => {\n",
              "        resolve(e.target.result);\n",
              "      };\n",
              "      reader.readAsArrayBuffer(file);\n",
              "    });\n",
              "    // Wait for the data to be ready.\n",
              "    let fileData = yield {\n",
              "      promise: fileDataPromise,\n",
              "      response: {\n",
              "        action: 'continue',\n",
              "      }\n",
              "    };\n",
              "\n",
              "    // Use a chunked sending to avoid message size limits. See b/62115660.\n",
              "    let position = 0;\n",
              "    do {\n",
              "      const length = Math.min(fileData.byteLength - position, MAX_PAYLOAD_SIZE);\n",
              "      const chunk = new Uint8Array(fileData, position, length);\n",
              "      position += length;\n",
              "\n",
              "      const base64 = btoa(String.fromCharCode.apply(null, chunk));\n",
              "      yield {\n",
              "        response: {\n",
              "          action: 'append',\n",
              "          file: file.name,\n",
              "          data: base64,\n",
              "        },\n",
              "      };\n",
              "\n",
              "      let percentDone = fileData.byteLength === 0 ?\n",
              "          100 :\n",
              "          Math.round((position / fileData.byteLength) * 100);\n",
              "      percent.textContent = `${percentDone}% done`;\n",
              "\n",
              "    } while (position < fileData.byteLength);\n",
              "  }\n",
              "\n",
              "  // All done.\n",
              "  yield {\n",
              "    response: {\n",
              "      action: 'complete',\n",
              "    }\n",
              "  };\n",
              "}\n",
              "\n",
              "scope.google = scope.google || {};\n",
              "scope.google.colab = scope.google.colab || {};\n",
              "scope.google.colab._files = {\n",
              "  _uploadFiles,\n",
              "  _uploadFilesContinue,\n",
              "};\n",
              "})(self);\n",
              "</script> "
            ]
          },
          "metadata": {}
        },
        {
          "output_type": "stream",
          "name": "stdout",
          "text": [
            "Saving social network ads.csv to social network ads (2).csv\n"
          ]
        },
        {
          "output_type": "execute_result",
          "data": {
            "text/plain": [
              "{'social network ads.csv': b'Age,EstimatedSalary,Purchased\\r\\n19,19000,0\\r\\n35,20000,0\\r\\n26,43000,0\\r\\n27,57000,0\\r\\n19,76000,0\\r\\n27,58000,0\\r\\n27,84000,0\\r\\n32,150000,1\\r\\n25,33000,0\\r\\n35,65000,0\\r\\n26,80000,0\\r\\n26,52000,0\\r\\n20,86000,0\\r\\n32,18000,0\\r\\n18,82000,0\\r\\n29,80000,0\\r\\n47,25000,1\\r\\n45,26000,1\\r\\n46,28000,1\\r\\n48,29000,1\\r\\n45,22000,1\\r\\n47,49000,1\\r\\n48,41000,1\\r\\n45,22000,1\\r\\n46,23000,1\\r\\n47,20000,1\\r\\n49,28000,1\\r\\n47,30000,1\\r\\n29,43000,0\\r\\n31,18000,0\\r\\n31,74000,0\\r\\n27,137000,1\\r\\n21,16000,0\\r\\n28,44000,0\\r\\n27,90000,0\\r\\n35,27000,0\\r\\n33,28000,0\\r\\n30,49000,0\\r\\n26,72000,0\\r\\n27,31000,0\\r\\n27,17000,0\\r\\n33,51000,0\\r\\n35,108000,0\\r\\n30,15000,0\\r\\n28,84000,0\\r\\n23,20000,0\\r\\n25,79000,0\\r\\n27,54000,0\\r\\n30,135000,1\\r\\n31,89000,0\\r\\n24,32000,0\\r\\n18,44000,0\\r\\n29,83000,0\\r\\n35,23000,0\\r\\n27,58000,0\\r\\n24,55000,0\\r\\n23,48000,0\\r\\n28,79000,0\\r\\n22,18000,0\\r\\n32,117000,0\\r\\n27,20000,0\\r\\n25,87000,0\\r\\n23,66000,0\\r\\n32,120000,1\\r\\n59,83000,0\\r\\n24,58000,0\\r\\n24,19000,0\\r\\n23,82000,0\\r\\n22,63000,0\\r\\n31,68000,0\\r\\n25,80000,0\\r\\n24,27000,0\\r\\n20,23000,0\\r\\n33,113000,0\\r\\n32,18000,0\\r\\n34,112000,1\\r\\n18,52000,0\\r\\n22,27000,0\\r\\n28,87000,0\\r\\n26,17000,0\\r\\n30,80000,0\\r\\n39,42000,0\\r\\n20,49000,0\\r\\n35,88000,0\\r\\n30,62000,0\\r\\n31,118000,1\\r\\n24,55000,0\\r\\n28,85000,0\\r\\n26,81000,0\\r\\n35,50000,0\\r\\n22,81000,0\\r\\n30,116000,0\\r\\n26,15000,0\\r\\n29,28000,0\\r\\n29,83000,0\\r\\n35,44000,0\\r\\n35,25000,0\\r\\n28,123000,1\\r\\n35,73000,0\\r\\n28,37000,0\\r\\n27,88000,0\\r\\n28,59000,0\\r\\n32,86000,0\\r\\n33,149000,1\\r\\n19,21000,0\\r\\n21,72000,0\\r\\n26,35000,0\\r\\n27,89000,0\\r\\n26,86000,0\\r\\n38,80000,0\\r\\n39,71000,0\\r\\n37,71000,0\\r\\n38,61000,0\\r\\n37,55000,0\\r\\n42,80000,0\\r\\n40,57000,0\\r\\n35,75000,0\\r\\n36,52000,0\\r\\n40,59000,0\\r\\n41,59000,0\\r\\n36,75000,0\\r\\n37,72000,0\\r\\n40,75000,0\\r\\n35,53000,0\\r\\n41,51000,0\\r\\n39,61000,0\\r\\n42,65000,0\\r\\n26,32000,0\\r\\n30,17000,0\\r\\n26,84000,0\\r\\n31,58000,0\\r\\n33,31000,0\\r\\n30,87000,0\\r\\n21,68000,0\\r\\n28,55000,0\\r\\n23,63000,0\\r\\n20,82000,0\\r\\n30,107000,1\\r\\n28,59000,0\\r\\n19,25000,0\\r\\n19,85000,0\\r\\n18,68000,0\\r\\n35,59000,0\\r\\n30,89000,0\\r\\n34,25000,0\\r\\n24,89000,0\\r\\n27,96000,1\\r\\n41,30000,0\\r\\n29,61000,0\\r\\n20,74000,0\\r\\n26,15000,0\\r\\n41,45000,0\\r\\n31,76000,0\\r\\n36,50000,0\\r\\n40,47000,0\\r\\n31,15000,0\\r\\n46,59000,0\\r\\n29,75000,0\\r\\n26,30000,0\\r\\n32,135000,1\\r\\n32,100000,1\\r\\n25,90000,0\\r\\n37,33000,0\\r\\n35,38000,0\\r\\n33,69000,0\\r\\n18,86000,0\\r\\n22,55000,0\\r\\n35,71000,0\\r\\n29,148000,1\\r\\n29,47000,0\\r\\n21,88000,0\\r\\n34,115000,0\\r\\n26,118000,0\\r\\n34,43000,0\\r\\n34,72000,0\\r\\n23,28000,0\\r\\n35,47000,0\\r\\n25,22000,0\\r\\n24,23000,0\\r\\n31,34000,0\\r\\n26,16000,0\\r\\n31,71000,0\\r\\n32,117000,1\\r\\n33,43000,0\\r\\n33,60000,0\\r\\n31,66000,0\\r\\n20,82000,0\\r\\n33,41000,0\\r\\n35,72000,0\\r\\n28,32000,0\\r\\n24,84000,0\\r\\n19,26000,0\\r\\n29,43000,0\\r\\n19,70000,0\\r\\n28,89000,0\\r\\n34,43000,0\\r\\n30,79000,0\\r\\n20,36000,0\\r\\n26,80000,0\\r\\n35,22000,0\\r\\n35,39000,0\\r\\n49,74000,0\\r\\n39,134000,1\\r\\n41,71000,0\\r\\n58,101000,1\\r\\n47,47000,0\\r\\n55,130000,1\\r\\n52,114000,0\\r\\n40,142000,1\\r\\n46,22000,0\\r\\n48,96000,1\\r\\n52,150000,1\\r\\n59,42000,0\\r\\n35,58000,0\\r\\n47,43000,0\\r\\n60,108000,1\\r\\n49,65000,0\\r\\n40,78000,0\\r\\n46,96000,0\\r\\n59,143000,1\\r\\n41,80000,0\\r\\n35,91000,1\\r\\n37,144000,1\\r\\n60,102000,1\\r\\n35,60000,0\\r\\n37,53000,0\\r\\n36,126000,1\\r\\n56,133000,1\\r\\n40,72000,0\\r\\n42,80000,1\\r\\n35,147000,1\\r\\n39,42000,0\\r\\n40,107000,1\\r\\n49,86000,1\\r\\n38,112000,0\\r\\n46,79000,1\\r\\n40,57000,0\\r\\n37,80000,0\\r\\n46,82000,0\\r\\n53,143000,1\\r\\n42,149000,1\\r\\n38,59000,0\\r\\n50,88000,1\\r\\n56,104000,1\\r\\n41,72000,0\\r\\n51,146000,1\\r\\n35,50000,0\\r\\n57,122000,1\\r\\n41,52000,0\\r\\n35,97000,1\\r\\n44,39000,0\\r\\n37,52000,0\\r\\n48,134000,1\\r\\n37,146000,1\\r\\n50,44000,0\\r\\n52,90000,1\\r\\n41,72000,0\\r\\n40,57000,0\\r\\n58,95000,1\\r\\n45,131000,1\\r\\n35,77000,0\\r\\n36,144000,1\\r\\n55,125000,1\\r\\n35,72000,0\\r\\n48,90000,1\\r\\n42,108000,1\\r\\n40,75000,0\\r\\n37,74000,0\\r\\n47,144000,1\\r\\n40,61000,0\\r\\n43,133000,0\\r\\n59,76000,1\\r\\n60,42000,1\\r\\n39,106000,1\\r\\n57,26000,1\\r\\n57,74000,1\\r\\n38,71000,0\\r\\n49,88000,1\\r\\n52,38000,1\\r\\n50,36000,1\\r\\n59,88000,1\\r\\n35,61000,0\\r\\n37,70000,1\\r\\n52,21000,1\\r\\n48,141000,0\\r\\n37,93000,1\\r\\n37,62000,0\\r\\n48,138000,1\\r\\n41,79000,0\\r\\n37,78000,1\\r\\n39,134000,1\\r\\n49,89000,1\\r\\n55,39000,1\\r\\n37,77000,0\\r\\n35,57000,0\\r\\n36,63000,0\\r\\n42,73000,1\\r\\n43,112000,1\\r\\n45,79000,0\\r\\n46,117000,1\\r\\n58,38000,1\\r\\n48,74000,1\\r\\n37,137000,1\\r\\n37,79000,1\\r\\n40,60000,0\\r\\n42,54000,0\\r\\n51,134000,0\\r\\n47,113000,1\\r\\n36,125000,1\\r\\n38,50000,0\\r\\n42,70000,0\\r\\n39,96000,1\\r\\n38,50000,0\\r\\n49,141000,1\\r\\n39,79000,0\\r\\n39,75000,1\\r\\n54,104000,1\\r\\n35,55000,0\\r\\n45,32000,1\\r\\n36,60000,0\\r\\n52,138000,1\\r\\n53,82000,1\\r\\n41,52000,0\\r\\n48,30000,1\\r\\n48,131000,1\\r\\n41,60000,0\\r\\n41,72000,0\\r\\n42,75000,0\\r\\n36,118000,1\\r\\n47,107000,1\\r\\n38,51000,0\\r\\n48,119000,1\\r\\n42,65000,0\\r\\n40,65000,0\\r\\n57,60000,1\\r\\n36,54000,0\\r\\n58,144000,1\\r\\n35,79000,0\\r\\n38,55000,0\\r\\n39,122000,1\\r\\n53,104000,1\\r\\n35,75000,0\\r\\n38,65000,0\\r\\n47,51000,1\\r\\n47,105000,1\\r\\n41,63000,0\\r\\n53,72000,1\\r\\n54,108000,1\\r\\n39,77000,0\\r\\n38,61000,0\\r\\n38,113000,1\\r\\n37,75000,0\\r\\n42,90000,1\\r\\n37,57000,0\\r\\n36,99000,1\\r\\n60,34000,1\\r\\n54,70000,1\\r\\n41,72000,0\\r\\n40,71000,1\\r\\n42,54000,0\\r\\n43,129000,1\\r\\n53,34000,1\\r\\n47,50000,1\\r\\n42,79000,0\\r\\n42,104000,1\\r\\n59,29000,1\\r\\n58,47000,1\\r\\n46,88000,1\\r\\n38,71000,0\\r\\n54,26000,1\\r\\n60,46000,1\\r\\n60,83000,1\\r\\n39,73000,0\\r\\n59,130000,1\\r\\n37,80000,0\\r\\n46,32000,1\\r\\n46,74000,0\\r\\n42,53000,0\\r\\n41,87000,1\\r\\n58,23000,1\\r\\n42,64000,0\\r\\n48,33000,1\\r\\n44,139000,1\\r\\n49,28000,1\\r\\n57,33000,1\\r\\n56,60000,1\\r\\n49,39000,1\\r\\n39,71000,0\\r\\n47,34000,1\\r\\n48,35000,1\\r\\n48,33000,1\\r\\n47,23000,1\\r\\n45,45000,1\\r\\n60,42000,1\\r\\n39,59000,0\\r\\n46,41000,1\\r\\n51,23000,1\\r\\n50,20000,1\\r\\n36,33000,0\\r\\n49,36000,1'}"
            ]
          },
          "metadata": {},
          "execution_count": 46
        }
      ]
    },
    {
      "cell_type": "code",
      "source": [
        "df = pd.read_csv('social network ads.csv')"
      ],
      "metadata": {
        "id": "lTqNTZV9uQeC"
      },
      "execution_count": 47,
      "outputs": []
    },
    {
      "cell_type": "code",
      "source": [
        "df.head()"
      ],
      "metadata": {
        "colab": {
          "base_uri": "https://localhost:8080/",
          "height": 206
        },
        "id": "RKVUll57u7KP",
        "outputId": "72c9b7c4-7ddf-455c-e3a0-3d9512636ab0"
      },
      "execution_count": 48,
      "outputs": [
        {
          "output_type": "execute_result",
          "data": {
            "text/plain": [
              "   Age  EstimatedSalary  Purchased\n",
              "0   19            19000          0\n",
              "1   35            20000          0\n",
              "2   26            43000          0\n",
              "3   27            57000          0\n",
              "4   19            76000          0"
            ],
            "text/html": [
              "\n",
              "  <div id=\"df-54c96aef-495a-4d3d-a844-1f0208625c87\">\n",
              "    <div class=\"colab-df-container\">\n",
              "      <div>\n",
              "<style scoped>\n",
              "    .dataframe tbody tr th:only-of-type {\n",
              "        vertical-align: middle;\n",
              "    }\n",
              "\n",
              "    .dataframe tbody tr th {\n",
              "        vertical-align: top;\n",
              "    }\n",
              "\n",
              "    .dataframe thead th {\n",
              "        text-align: right;\n",
              "    }\n",
              "</style>\n",
              "<table border=\"1\" class=\"dataframe\">\n",
              "  <thead>\n",
              "    <tr style=\"text-align: right;\">\n",
              "      <th></th>\n",
              "      <th>Age</th>\n",
              "      <th>EstimatedSalary</th>\n",
              "      <th>Purchased</th>\n",
              "    </tr>\n",
              "  </thead>\n",
              "  <tbody>\n",
              "    <tr>\n",
              "      <th>0</th>\n",
              "      <td>19</td>\n",
              "      <td>19000</td>\n",
              "      <td>0</td>\n",
              "    </tr>\n",
              "    <tr>\n",
              "      <th>1</th>\n",
              "      <td>35</td>\n",
              "      <td>20000</td>\n",
              "      <td>0</td>\n",
              "    </tr>\n",
              "    <tr>\n",
              "      <th>2</th>\n",
              "      <td>26</td>\n",
              "      <td>43000</td>\n",
              "      <td>0</td>\n",
              "    </tr>\n",
              "    <tr>\n",
              "      <th>3</th>\n",
              "      <td>27</td>\n",
              "      <td>57000</td>\n",
              "      <td>0</td>\n",
              "    </tr>\n",
              "    <tr>\n",
              "      <th>4</th>\n",
              "      <td>19</td>\n",
              "      <td>76000</td>\n",
              "      <td>0</td>\n",
              "    </tr>\n",
              "  </tbody>\n",
              "</table>\n",
              "</div>\n",
              "      <button class=\"colab-df-convert\" onclick=\"convertToInteractive('df-54c96aef-495a-4d3d-a844-1f0208625c87')\"\n",
              "              title=\"Convert this dataframe to an interactive table.\"\n",
              "              style=\"display:none;\">\n",
              "        \n",
              "  <svg xmlns=\"http://www.w3.org/2000/svg\" height=\"24px\"viewBox=\"0 0 24 24\"\n",
              "       width=\"24px\">\n",
              "    <path d=\"M0 0h24v24H0V0z\" fill=\"none\"/>\n",
              "    <path d=\"M18.56 5.44l.94 2.06.94-2.06 2.06-.94-2.06-.94-.94-2.06-.94 2.06-2.06.94zm-11 1L8.5 8.5l.94-2.06 2.06-.94-2.06-.94L8.5 2.5l-.94 2.06-2.06.94zm10 10l.94 2.06.94-2.06 2.06-.94-2.06-.94-.94-2.06-.94 2.06-2.06.94z\"/><path d=\"M17.41 7.96l-1.37-1.37c-.4-.4-.92-.59-1.43-.59-.52 0-1.04.2-1.43.59L10.3 9.45l-7.72 7.72c-.78.78-.78 2.05 0 2.83L4 21.41c.39.39.9.59 1.41.59.51 0 1.02-.2 1.41-.59l7.78-7.78 2.81-2.81c.8-.78.8-2.07 0-2.86zM5.41 20L4 18.59l7.72-7.72 1.47 1.35L5.41 20z\"/>\n",
              "  </svg>\n",
              "      </button>\n",
              "      \n",
              "  <style>\n",
              "    .colab-df-container {\n",
              "      display:flex;\n",
              "      flex-wrap:wrap;\n",
              "      gap: 12px;\n",
              "    }\n",
              "\n",
              "    .colab-df-convert {\n",
              "      background-color: #E8F0FE;\n",
              "      border: none;\n",
              "      border-radius: 50%;\n",
              "      cursor: pointer;\n",
              "      display: none;\n",
              "      fill: #1967D2;\n",
              "      height: 32px;\n",
              "      padding: 0 0 0 0;\n",
              "      width: 32px;\n",
              "    }\n",
              "\n",
              "    .colab-df-convert:hover {\n",
              "      background-color: #E2EBFA;\n",
              "      box-shadow: 0px 1px 2px rgba(60, 64, 67, 0.3), 0px 1px 3px 1px rgba(60, 64, 67, 0.15);\n",
              "      fill: #174EA6;\n",
              "    }\n",
              "\n",
              "    [theme=dark] .colab-df-convert {\n",
              "      background-color: #3B4455;\n",
              "      fill: #D2E3FC;\n",
              "    }\n",
              "\n",
              "    [theme=dark] .colab-df-convert:hover {\n",
              "      background-color: #434B5C;\n",
              "      box-shadow: 0px 1px 3px 1px rgba(0, 0, 0, 0.15);\n",
              "      filter: drop-shadow(0px 1px 2px rgba(0, 0, 0, 0.3));\n",
              "      fill: #FFFFFF;\n",
              "    }\n",
              "  </style>\n",
              "\n",
              "      <script>\n",
              "        const buttonEl =\n",
              "          document.querySelector('#df-54c96aef-495a-4d3d-a844-1f0208625c87 button.colab-df-convert');\n",
              "        buttonEl.style.display =\n",
              "          google.colab.kernel.accessAllowed ? 'block' : 'none';\n",
              "\n",
              "        async function convertToInteractive(key) {\n",
              "          const element = document.querySelector('#df-54c96aef-495a-4d3d-a844-1f0208625c87');\n",
              "          const dataTable =\n",
              "            await google.colab.kernel.invokeFunction('convertToInteractive',\n",
              "                                                     [key], {});\n",
              "          if (!dataTable) return;\n",
              "\n",
              "          const docLinkHtml = 'Like what you see? Visit the ' +\n",
              "            '<a target=\"_blank\" href=https://colab.research.google.com/notebooks/data_table.ipynb>data table notebook</a>'\n",
              "            + ' to learn more about interactive tables.';\n",
              "          element.innerHTML = '';\n",
              "          dataTable['output_type'] = 'display_data';\n",
              "          await google.colab.output.renderOutput(dataTable, element);\n",
              "          const docLink = document.createElement('div');\n",
              "          docLink.innerHTML = docLinkHtml;\n",
              "          element.appendChild(docLink);\n",
              "        }\n",
              "      </script>\n",
              "    </div>\n",
              "  </div>\n",
              "  "
            ]
          },
          "metadata": {},
          "execution_count": 48
        }
      ]
    },
    {
      "cell_type": "code",
      "source": [
        "#train test split\n",
        "from sklearn.model_selection import train_test_split\n",
        "\n",
        "x_train , x_test , y_train , y_test = train_test_split(df.drop('Purchased',axis=1),\n",
        "                                                       df['Purchased'],test_size=0.3,random_state=0)\n",
        "\n",
        "x_train.shape , x_test.shape"
      ],
      "metadata": {
        "colab": {
          "base_uri": "https://localhost:8080/"
        },
        "id": "3r96fqenvRsU",
        "outputId": "ed548eb8-f599-48ab-cab0-844339282d90"
      },
      "execution_count": 49,
      "outputs": [
        {
          "output_type": "execute_result",
          "data": {
            "text/plain": [
              "((280, 2), (120, 2))"
            ]
          },
          "metadata": {},
          "execution_count": 49
        }
      ]
    },
    {
      "cell_type": "code",
      "source": [
        "#standard scalar\n",
        "from sklearn.preprocessing import StandardScaler\n",
        "scaler = StandardScaler()\n",
        "\n",
        "#fit the scaler into the train data, it will learn the parameters\n",
        "scaler.fit(x_train)\n",
        "\n",
        "#transform train and test sets\n",
        "x_train_scaled = scaler.transform(x_train)\n",
        "x_test_scaled = scaler.transform(x_test)"
      ],
      "metadata": {
        "id": "LJV71biAv8x-"
      },
      "execution_count": 50,
      "outputs": []
    },
    {
      "cell_type": "markdown",
      "source": [
        "Inference to the code: \n",
        "* we are fitting the standard scaler to the train data and the formula x' = x - mean / standard deviation is being applied to every poin of x train data and the data is tranformed and is being stored into the variable x_train_scaled, same goes for x test.\n",
        "\n",
        "* we fit scaler only to the train data, but transformation is done in both, train and test data. "
      ],
      "metadata": {
        "id": "6jF1YnoyxQVn"
      }
    },
    {
      "cell_type": "code",
      "source": [
        "scaler.mean_ #mean of age and salary"
      ],
      "metadata": {
        "colab": {
          "base_uri": "https://localhost:8080/"
        },
        "id": "3rPCvgrpwS3X",
        "outputId": "fade6e1b-919d-48f9-a6a2-810349f52774"
      },
      "execution_count": 51,
      "outputs": [
        {
          "output_type": "execute_result",
          "data": {
            "text/plain": [
              "array([3.78642857e+01, 6.98071429e+04])"
            ]
          },
          "metadata": {},
          "execution_count": 51
        }
      ]
    },
    {
      "cell_type": "code",
      "source": [
        "x_train_scaled"
      ],
      "metadata": {
        "colab": {
          "base_uri": "https://localhost:8080/"
        },
        "id": "yRhlhowlxDhv",
        "outputId": "0a11dec5-afb1-4964-f23a-d7689c3f39c7"
      },
      "execution_count": 52,
      "outputs": [
        {
          "output_type": "execute_result",
          "data": {
            "text/plain": [
              "array([[-1.1631724 , -1.5849703 ],\n",
              "       [ 2.17018137,  0.93098672],\n",
              "       [ 0.0133054 ,  1.22017719],\n",
              "       [ 0.20938504,  1.07558195],\n",
              "       [ 0.40546467, -0.48604654],\n",
              "       [-0.28081405, -0.31253226],\n",
              "       [ 0.99370357, -0.8330751 ],\n",
              "       [ 0.99370357,  1.8563962 ],\n",
              "       [ 0.0133054 ,  1.24909623],\n",
              "       [-0.86905295,  2.26126285],\n",
              "       [-1.1631724 , -1.5849703 ],\n",
              "       [ 2.17018137, -0.80415605],\n",
              "       [-1.35925203, -1.46929411],\n",
              "       [ 0.40546467,  2.2901819 ],\n",
              "       [ 0.79762394,  0.75747245],\n",
              "       [-0.96709276, -0.31253226],\n",
              "       [ 0.11134522,  0.75747245],\n",
              "       [-0.96709276,  0.55503912],\n",
              "       [ 0.30742485,  0.06341534],\n",
              "       [ 0.69958412, -1.26686079],\n",
              "       [-0.47689368, -0.0233418 ],\n",
              "       [-1.7514113 ,  0.3526058 ],\n",
              "       [-0.67297331,  0.12125343],\n",
              "       [ 0.40546467,  0.29476771],\n",
              "       [-0.28081405,  0.06341534],\n",
              "       [-0.47689368,  2.2901819 ],\n",
              "       [ 0.20938504,  0.03449629],\n",
              "       [ 1.28782302,  2.20342476],\n",
              "       [ 0.79762394,  0.26584866],\n",
              "       [-0.28081405,  0.15017248],\n",
              "       [ 0.0133054 , -0.54388463],\n",
              "       [-0.18277423,  0.15017248],\n",
              "       [-0.08473441,  0.23692961],\n",
              "       [ 0.0133054 , -0.25469417],\n",
              "       [ 2.17018137,  1.104501  ],\n",
              "       [-1.7514113 ,  0.3526058 ],\n",
              "       [ 1.87606192,  0.12125343],\n",
              "       [ 0.40546467, -0.13901799],\n",
              "       [-1.1631724 ,  0.29476771],\n",
              "       [ 0.79762394,  1.36477242],\n",
              "       [-0.28081405, -0.25469417],\n",
              "       [-1.65337148, -0.05226085],\n",
              "       [-0.96709276, -0.74631796],\n",
              "       [ 0.30742485,  0.49720103],\n",
              "       [-0.08473441, -1.06442747],\n",
              "       [-1.06513258,  0.58395817],\n",
              "       [ 0.11134522, -0.80415605],\n",
              "       [-0.96709276,  1.53828669],\n",
              "       [-0.67297331,  1.39369146],\n",
              "       [-1.26121221,  0.49720103],\n",
              "       [-0.28081405,  0.03449629],\n",
              "       [-0.08473441,  0.00557724],\n",
              "       [-0.28081405, -0.89091319],\n",
              "       [ 0.89566375, -1.35361793],\n",
              "       [-0.28081405,  2.2323438 ],\n",
              "       [ 0.99370357,  1.97207239],\n",
              "       [-1.1631724 ,  0.46828198],\n",
              "       [-1.26121221,  0.26584866],\n",
              "       [ 1.38586284,  1.97207239],\n",
              "       [ 1.28782302, -1.35361793],\n",
              "       [-0.28081405, -0.28361322],\n",
              "       [-0.47689368,  1.24909623],\n",
              "       [-0.77101313,  1.07558195],\n",
              "       [ 0.99370357, -1.06442747],\n",
              "       [ 0.30742485,  0.29476771],\n",
              "       [ 0.99370357,  0.75747245],\n",
              "       [-0.67297331, -1.49821316],\n",
              "       [-0.67297331,  0.03449629],\n",
              "       [ 0.50350449,  1.71180097],\n",
              "       [ 2.07214155,  0.17909152],\n",
              "       [-1.94749093, -0.74631796],\n",
              "       [-0.18277423,  1.39369146],\n",
              "       [ 0.40546467,  0.58395817],\n",
              "       [ 0.89566375, -1.1511846 ],\n",
              "       [-1.1631724 , -0.775237  ],\n",
              "       [ 0.20938504,  0.23692961],\n",
              "       [ 0.79762394, -0.31253226],\n",
              "       [ 2.07214155, -0.80415605],\n",
              "       [ 0.79762394,  0.12125343],\n",
              "       [-0.28081405,  0.61287722],\n",
              "       [-0.96709276, -0.31253226],\n",
              "       [ 0.20938504, -0.37037036],\n",
              "       [ 2.07214155,  2.11666762],\n",
              "       [ 1.87606192, -1.26686079],\n",
              "       [ 1.38586284, -0.91983223],\n",
              "       [ 0.89566375,  1.24909623],\n",
              "       [ 1.48390265,  2.11666762],\n",
              "       [-0.28081405, -1.23794174],\n",
              "       [ 1.97410174,  0.90206768],\n",
              "       [ 0.69958412, -0.71739891],\n",
              "       [-1.45729185,  0.3526058 ],\n",
              "       [ 0.79762394, -1.35361793],\n",
              "       [ 0.40546467, -0.13901799],\n",
              "       [-0.96709276,  0.41044389],\n",
              "       [ 0.0133054 , -0.31253226],\n",
              "       [-1.1631724 ,  0.41044389],\n",
              "       [-0.86905295, -1.2090227 ],\n",
              "       [-0.08473441,  0.03449629],\n",
              "       [-1.55533166, -0.42820845],\n",
              "       [ 0.99370357, -1.00658937],\n",
              "       [ 1.09174339, -1.2090227 ],\n",
              "       [ 0.0133054 , -0.13901799],\n",
              "       [-1.06513258, -1.52713221],\n",
              "       [ 0.79762394, -1.2090227 ],\n",
              "       [ 0.99370357,  2.05882953],\n",
              "       [-1.1631724 , -1.52713221],\n",
              "       [-0.28081405,  0.78639149],\n",
              "       [ 0.11134522, -0.31253226],\n",
              "       [-1.35925203, -1.23794174],\n",
              "       [-0.5749335 , -1.49821316],\n",
              "       [ 0.79762394,  0.52612008],\n",
              "       [-0.28081405, -0.34145131],\n",
              "       [ 1.7780221 , -0.28361322],\n",
              "       [ 0.89566375, -1.03550842],\n",
              "       [ 0.20938504,  0.06341534],\n",
              "       [-0.5749335 ,  0.87314863],\n",
              "       [-1.84945111, -1.41145602],\n",
              "       [-1.26121221,  0.58395817],\n",
              "       [-0.28081405,  0.52612008],\n",
              "       [-0.96709276, -1.09334651],\n",
              "       [ 1.1897832 , -1.44037507],\n",
              "       [ 0.20938504, -0.31253226],\n",
              "       [ 1.1897832 , -0.74631796],\n",
              "       [-0.28081405,  0.06341534],\n",
              "       [ 0.20938504,  2.08774857],\n",
              "       [ 0.79762394, -1.09334651],\n",
              "       [ 0.11134522,  0.03449629],\n",
              "       [-1.7514113 ,  0.12125343],\n",
              "       [-0.86905295,  0.15017248],\n",
              "       [-0.67297331,  0.17909152],\n",
              "       [ 0.89566375, -1.29577984],\n",
              "       [ 0.20938504, -0.25469417],\n",
              "       [-0.37885386,  1.22017719],\n",
              "       [ 0.0133054 ,  0.29476771],\n",
              "       [ 0.40546467,  0.15017248],\n",
              "       [ 0.89566375, -0.65956082],\n",
              "       [ 0.11134522,  0.15017248],\n",
              "       [-1.84945111, -1.29577984],\n",
              "       [-0.08473441,  0.29476771],\n",
              "       [-0.18277423, -0.28361322],\n",
              "       [ 0.30742485, -0.51496559],\n",
              "       [-0.18277423,  1.59612479],\n",
              "       [ 0.99370357, -1.18010365],\n",
              "       [-0.18277423,  1.62504383],\n",
              "       [ 1.28782302,  1.8563962 ],\n",
              "       [-1.06513258, -0.37037036],\n",
              "       [ 0.0133054 ,  0.03449629],\n",
              "       [ 0.11134522, -0.25469417],\n",
              "       [-1.55533166, -1.23794174],\n",
              "       [-0.47689368, -0.28361322],\n",
              "       [ 0.99370357,  0.12125343],\n",
              "       [ 1.97410174, -1.35361793],\n",
              "       [ 1.48390265,  0.06341534],\n",
              "       [-0.5749335 ,  1.36477242],\n",
              "       [ 1.58194247,  0.00557724],\n",
              "       [-0.77101313,  0.29476771],\n",
              "       [ 1.97410174,  0.7285534 ],\n",
              "       [-1.1631724 , -0.51496559],\n",
              "       [ 0.69958412,  0.26584866],\n",
              "       [-1.35925203, -0.42820845],\n",
              "       [ 0.20938504,  0.15017248],\n",
              "       [-0.47689368, -1.2090227 ],\n",
              "       [ 0.6015443 ,  2.00099143],\n",
              "       [-1.55533166, -1.49821316],\n",
              "       [-0.47689368, -0.54388463],\n",
              "       [ 0.50350449,  1.82747716],\n",
              "       [-1.35925203, -1.09334651],\n",
              "       [ 0.79762394, -1.38253697],\n",
              "       [-0.28081405, -0.42820845],\n",
              "       [ 1.58194247,  0.98882482],\n",
              "       [ 0.99370357,  1.42261051],\n",
              "       [-0.28081405, -0.48604654],\n",
              "       [-0.08473441,  2.14558666],\n",
              "       [-1.45729185, -0.11009894],\n",
              "       [-0.08473441,  1.94315334],\n",
              "       [-0.67297331, -0.34145131],\n",
              "       [-0.47689368, -0.8330751 ],\n",
              "       [ 0.69958412, -1.38253697],\n",
              "       [-0.77101313, -1.5849703 ],\n",
              "       [-1.84945111, -1.46929411],\n",
              "       [ 1.09174339,  0.12125343],\n",
              "       [ 0.11134522,  1.50936765],\n",
              "       [-0.28081405,  0.09233438],\n",
              "       [ 0.11134522,  0.03449629],\n",
              "       [-1.35925203, -1.35361793],\n",
              "       [ 0.30742485,  0.06341534],\n",
              "       [-0.86905295,  0.38152485],\n",
              "       [ 1.58194247, -1.26686079],\n",
              "       [-0.28081405, -0.74631796],\n",
              "       [-0.08473441,  0.15017248],\n",
              "       [-0.86905295, -0.65956082],\n",
              "       [-0.67297331, -0.05226085],\n",
              "       [ 0.40546467, -0.45712749],\n",
              "       [-0.77101313,  1.88531525],\n",
              "       [ 1.38586284,  1.27801528],\n",
              "       [ 1.1897832 , -0.97767033],\n",
              "       [ 1.7780221 ,  1.82747716],\n",
              "       [-0.86905295, -0.25469417],\n",
              "       [-0.77101313,  0.55503912],\n",
              "       [-1.1631724 , -1.55605125],\n",
              "       [-0.47689368, -1.12226556],\n",
              "       [ 0.30742485,  0.06341534],\n",
              "       [-0.18277423, -1.06442747],\n",
              "       [ 1.67998229,  1.59612479],\n",
              "       [ 0.99370357,  1.76963906],\n",
              "       [ 0.30742485,  0.03449629],\n",
              "       [-0.77101313, -0.22577513],\n",
              "       [-0.08473441,  0.06341534],\n",
              "       [ 0.30742485, -0.19685608],\n",
              "       [ 1.97410174, -0.65956082],\n",
              "       [-0.77101313,  1.33585337],\n",
              "       [-1.7514113 , -0.60172273],\n",
              "       [-0.08473441,  0.12125343],\n",
              "       [ 0.30742485, -0.31253226],\n",
              "       [ 1.09174339,  0.55503912],\n",
              "       [-0.96709276,  0.26584866],\n",
              "       [ 1.48390265,  0.3526058 ],\n",
              "       [ 0.20938504, -0.37037036],\n",
              "       [ 2.17018137, -1.03550842],\n",
              "       [-0.28081405,  1.104501  ],\n",
              "       [-1.65337148,  0.06341534],\n",
              "       [ 0.0133054 ,  0.03449629],\n",
              "       [ 0.11134522,  1.04666291],\n",
              "       [-0.08473441, -0.37037036],\n",
              "       [-1.1631724 ,  0.06341534],\n",
              "       [-0.28081405, -1.35361793],\n",
              "       [ 1.58194247,  1.104501  ],\n",
              "       [-0.77101313, -1.52713221],\n",
              "       [ 0.11134522,  1.8563962 ],\n",
              "       [-0.86905295, -0.775237  ],\n",
              "       [-0.47689368, -0.775237  ],\n",
              "       [-0.28081405, -0.91983223],\n",
              "       [ 0.30742485, -0.71739891],\n",
              "       [ 0.30742485,  0.06341534],\n",
              "       [ 0.11134522,  1.8563962 ],\n",
              "       [-1.06513258,  1.94315334],\n",
              "       [-1.65337148, -1.55605125],\n",
              "       [-1.1631724 , -1.09334651],\n",
              "       [-0.67297331, -0.11009894],\n",
              "       [ 0.11134522,  0.09233438],\n",
              "       [ 0.30742485,  0.26584866],\n",
              "       [ 0.89566375, -0.57280368],\n",
              "       [ 0.30742485, -1.1511846 ],\n",
              "       [-0.08473441,  0.67071531],\n",
              "       [ 2.17018137, -0.68847986],\n",
              "       [-1.26121221, -1.38253697],\n",
              "       [-0.96709276, -0.94875128],\n",
              "       [ 0.0133054 , -0.42820845],\n",
              "       [-0.18277423, -0.45712749],\n",
              "       [-1.7514113 , -0.97767033],\n",
              "       [ 1.7780221 ,  0.98882482],\n",
              "       [ 0.20938504, -0.37037036],\n",
              "       [ 0.40546467,  1.104501  ],\n",
              "       [-1.7514113 , -1.35361793],\n",
              "       [ 0.20938504, -0.13901799],\n",
              "       [ 0.89566375, -1.44037507],\n",
              "       [-1.94749093,  0.46828198],\n",
              "       [-0.28081405,  0.26584866],\n",
              "       [ 1.87606192, -1.06442747],\n",
              "       [-0.37885386,  0.06341534],\n",
              "       [ 1.09174339, -0.89091319],\n",
              "       [-1.06513258, -1.12226556],\n",
              "       [-1.84945111,  0.00557724],\n",
              "       [ 0.11134522,  0.26584866],\n",
              "       [-1.1631724 ,  0.32368675],\n",
              "       [-1.26121221,  0.29476771],\n",
              "       [-0.96709276,  0.43936294],\n",
              "       [ 1.67998229, -0.89091319],\n",
              "       [ 1.1897832 ,  0.52612008],\n",
              "       [ 1.09174339,  0.52612008],\n",
              "       [ 1.38586284,  2.31910094],\n",
              "       [-0.28081405, -0.13901799],\n",
              "       [ 0.40546467, -0.45712749],\n",
              "       [-0.37885386, -0.775237  ],\n",
              "       [-0.08473441, -0.51496559],\n",
              "       [ 0.99370357, -1.1511846 ],\n",
              "       [-0.86905295, -0.775237  ],\n",
              "       [-0.18277423, -0.51496559],\n",
              "       [-1.06513258, -0.45712749],\n",
              "       [-1.1631724 ,  1.39369146]])"
            ]
          },
          "metadata": {},
          "execution_count": 52
        }
      ]
    },
    {
      "cell_type": "markdown",
      "source": [
        "After the transformation, the data is being returned in the form of a numpy array. so, we again need to convert it to dataframe"
      ],
      "metadata": {
        "id": "NBhRGxtFyWw_"
      }
    },
    {
      "cell_type": "code",
      "source": [
        "#converting array to DataFrame\n",
        "\n",
        "x_train_scaled = pd.DataFrame(x_train_scaled , columns = x_train.columns )\n",
        "x_test_scaled = pd.DataFrame(x_test_scaled , columns = x_test.columns )"
      ],
      "metadata": {
        "id": "jcqNIVPZyU5U"
      },
      "execution_count": 53,
      "outputs": []
    },
    {
      "cell_type": "code",
      "source": [
        "x_train_scaled #we can see that the values are scaled now."
      ],
      "metadata": {
        "colab": {
          "base_uri": "https://localhost:8080/",
          "height": 424
        },
        "id": "nyftGjVFy17x",
        "outputId": "cb6f7cd8-7a5f-47a2-b614-a70b37c1bf21"
      },
      "execution_count": 54,
      "outputs": [
        {
          "output_type": "execute_result",
          "data": {
            "text/plain": [
              "          Age  EstimatedSalary\n",
              "0   -1.163172        -1.584970\n",
              "1    2.170181         0.930987\n",
              "2    0.013305         1.220177\n",
              "3    0.209385         1.075582\n",
              "4    0.405465        -0.486047\n",
              "..        ...              ...\n",
              "275  0.993704        -1.151185\n",
              "276 -0.869053        -0.775237\n",
              "277 -0.182774        -0.514966\n",
              "278 -1.065133        -0.457127\n",
              "279 -1.163172         1.393691\n",
              "\n",
              "[280 rows x 2 columns]"
            ],
            "text/html": [
              "\n",
              "  <div id=\"df-4ea258ad-1559-4180-ae64-0740adbab43b\">\n",
              "    <div class=\"colab-df-container\">\n",
              "      <div>\n",
              "<style scoped>\n",
              "    .dataframe tbody tr th:only-of-type {\n",
              "        vertical-align: middle;\n",
              "    }\n",
              "\n",
              "    .dataframe tbody tr th {\n",
              "        vertical-align: top;\n",
              "    }\n",
              "\n",
              "    .dataframe thead th {\n",
              "        text-align: right;\n",
              "    }\n",
              "</style>\n",
              "<table border=\"1\" class=\"dataframe\">\n",
              "  <thead>\n",
              "    <tr style=\"text-align: right;\">\n",
              "      <th></th>\n",
              "      <th>Age</th>\n",
              "      <th>EstimatedSalary</th>\n",
              "    </tr>\n",
              "  </thead>\n",
              "  <tbody>\n",
              "    <tr>\n",
              "      <th>0</th>\n",
              "      <td>-1.163172</td>\n",
              "      <td>-1.584970</td>\n",
              "    </tr>\n",
              "    <tr>\n",
              "      <th>1</th>\n",
              "      <td>2.170181</td>\n",
              "      <td>0.930987</td>\n",
              "    </tr>\n",
              "    <tr>\n",
              "      <th>2</th>\n",
              "      <td>0.013305</td>\n",
              "      <td>1.220177</td>\n",
              "    </tr>\n",
              "    <tr>\n",
              "      <th>3</th>\n",
              "      <td>0.209385</td>\n",
              "      <td>1.075582</td>\n",
              "    </tr>\n",
              "    <tr>\n",
              "      <th>4</th>\n",
              "      <td>0.405465</td>\n",
              "      <td>-0.486047</td>\n",
              "    </tr>\n",
              "    <tr>\n",
              "      <th>...</th>\n",
              "      <td>...</td>\n",
              "      <td>...</td>\n",
              "    </tr>\n",
              "    <tr>\n",
              "      <th>275</th>\n",
              "      <td>0.993704</td>\n",
              "      <td>-1.151185</td>\n",
              "    </tr>\n",
              "    <tr>\n",
              "      <th>276</th>\n",
              "      <td>-0.869053</td>\n",
              "      <td>-0.775237</td>\n",
              "    </tr>\n",
              "    <tr>\n",
              "      <th>277</th>\n",
              "      <td>-0.182774</td>\n",
              "      <td>-0.514966</td>\n",
              "    </tr>\n",
              "    <tr>\n",
              "      <th>278</th>\n",
              "      <td>-1.065133</td>\n",
              "      <td>-0.457127</td>\n",
              "    </tr>\n",
              "    <tr>\n",
              "      <th>279</th>\n",
              "      <td>-1.163172</td>\n",
              "      <td>1.393691</td>\n",
              "    </tr>\n",
              "  </tbody>\n",
              "</table>\n",
              "<p>280 rows × 2 columns</p>\n",
              "</div>\n",
              "      <button class=\"colab-df-convert\" onclick=\"convertToInteractive('df-4ea258ad-1559-4180-ae64-0740adbab43b')\"\n",
              "              title=\"Convert this dataframe to an interactive table.\"\n",
              "              style=\"display:none;\">\n",
              "        \n",
              "  <svg xmlns=\"http://www.w3.org/2000/svg\" height=\"24px\"viewBox=\"0 0 24 24\"\n",
              "       width=\"24px\">\n",
              "    <path d=\"M0 0h24v24H0V0z\" fill=\"none\"/>\n",
              "    <path d=\"M18.56 5.44l.94 2.06.94-2.06 2.06-.94-2.06-.94-.94-2.06-.94 2.06-2.06.94zm-11 1L8.5 8.5l.94-2.06 2.06-.94-2.06-.94L8.5 2.5l-.94 2.06-2.06.94zm10 10l.94 2.06.94-2.06 2.06-.94-2.06-.94-.94-2.06-.94 2.06-2.06.94z\"/><path d=\"M17.41 7.96l-1.37-1.37c-.4-.4-.92-.59-1.43-.59-.52 0-1.04.2-1.43.59L10.3 9.45l-7.72 7.72c-.78.78-.78 2.05 0 2.83L4 21.41c.39.39.9.59 1.41.59.51 0 1.02-.2 1.41-.59l7.78-7.78 2.81-2.81c.8-.78.8-2.07 0-2.86zM5.41 20L4 18.59l7.72-7.72 1.47 1.35L5.41 20z\"/>\n",
              "  </svg>\n",
              "      </button>\n",
              "      \n",
              "  <style>\n",
              "    .colab-df-container {\n",
              "      display:flex;\n",
              "      flex-wrap:wrap;\n",
              "      gap: 12px;\n",
              "    }\n",
              "\n",
              "    .colab-df-convert {\n",
              "      background-color: #E8F0FE;\n",
              "      border: none;\n",
              "      border-radius: 50%;\n",
              "      cursor: pointer;\n",
              "      display: none;\n",
              "      fill: #1967D2;\n",
              "      height: 32px;\n",
              "      padding: 0 0 0 0;\n",
              "      width: 32px;\n",
              "    }\n",
              "\n",
              "    .colab-df-convert:hover {\n",
              "      background-color: #E2EBFA;\n",
              "      box-shadow: 0px 1px 2px rgba(60, 64, 67, 0.3), 0px 1px 3px 1px rgba(60, 64, 67, 0.15);\n",
              "      fill: #174EA6;\n",
              "    }\n",
              "\n",
              "    [theme=dark] .colab-df-convert {\n",
              "      background-color: #3B4455;\n",
              "      fill: #D2E3FC;\n",
              "    }\n",
              "\n",
              "    [theme=dark] .colab-df-convert:hover {\n",
              "      background-color: #434B5C;\n",
              "      box-shadow: 0px 1px 3px 1px rgba(0, 0, 0, 0.15);\n",
              "      filter: drop-shadow(0px 1px 2px rgba(0, 0, 0, 0.3));\n",
              "      fill: #FFFFFF;\n",
              "    }\n",
              "  </style>\n",
              "\n",
              "      <script>\n",
              "        const buttonEl =\n",
              "          document.querySelector('#df-4ea258ad-1559-4180-ae64-0740adbab43b button.colab-df-convert');\n",
              "        buttonEl.style.display =\n",
              "          google.colab.kernel.accessAllowed ? 'block' : 'none';\n",
              "\n",
              "        async function convertToInteractive(key) {\n",
              "          const element = document.querySelector('#df-4ea258ad-1559-4180-ae64-0740adbab43b');\n",
              "          const dataTable =\n",
              "            await google.colab.kernel.invokeFunction('convertToInteractive',\n",
              "                                                     [key], {});\n",
              "          if (!dataTable) return;\n",
              "\n",
              "          const docLinkHtml = 'Like what you see? Visit the ' +\n",
              "            '<a target=\"_blank\" href=https://colab.research.google.com/notebooks/data_table.ipynb>data table notebook</a>'\n",
              "            + ' to learn more about interactive tables.';\n",
              "          element.innerHTML = '';\n",
              "          dataTable['output_type'] = 'display_data';\n",
              "          await google.colab.output.renderOutput(dataTable, element);\n",
              "          const docLink = document.createElement('div');\n",
              "          docLink.innerHTML = docLinkHtml;\n",
              "          element.appendChild(docLink);\n",
              "        }\n",
              "      </script>\n",
              "    </div>\n",
              "  </div>\n",
              "  "
            ]
          },
          "metadata": {},
          "execution_count": 54
        }
      ]
    },
    {
      "cell_type": "code",
      "source": [
        "#describing the statistics for x_train data\n",
        "np.round(x_train.describe(),1)"
      ],
      "metadata": {
        "colab": {
          "base_uri": "https://localhost:8080/",
          "height": 300
        },
        "id": "uK-XND56y5Ha",
        "outputId": "064742fc-0147-4509-9659-e83d92f331a3"
      },
      "execution_count": 55,
      "outputs": [
        {
          "output_type": "execute_result",
          "data": {
            "text/plain": [
              "         Age  EstimatedSalary\n",
              "count  280.0            280.0\n",
              "mean    37.9          69807.1\n",
              "std     10.2          34641.2\n",
              "min     18.0          15000.0\n",
              "25%     30.0          43000.0\n",
              "50%     37.0          70500.0\n",
              "75%     46.0          88000.0\n",
              "max     60.0         150000.0"
            ],
            "text/html": [
              "\n",
              "  <div id=\"df-f11b0569-d84e-40cc-859c-62b6f169bee6\">\n",
              "    <div class=\"colab-df-container\">\n",
              "      <div>\n",
              "<style scoped>\n",
              "    .dataframe tbody tr th:only-of-type {\n",
              "        vertical-align: middle;\n",
              "    }\n",
              "\n",
              "    .dataframe tbody tr th {\n",
              "        vertical-align: top;\n",
              "    }\n",
              "\n",
              "    .dataframe thead th {\n",
              "        text-align: right;\n",
              "    }\n",
              "</style>\n",
              "<table border=\"1\" class=\"dataframe\">\n",
              "  <thead>\n",
              "    <tr style=\"text-align: right;\">\n",
              "      <th></th>\n",
              "      <th>Age</th>\n",
              "      <th>EstimatedSalary</th>\n",
              "    </tr>\n",
              "  </thead>\n",
              "  <tbody>\n",
              "    <tr>\n",
              "      <th>count</th>\n",
              "      <td>280.0</td>\n",
              "      <td>280.0</td>\n",
              "    </tr>\n",
              "    <tr>\n",
              "      <th>mean</th>\n",
              "      <td>37.9</td>\n",
              "      <td>69807.1</td>\n",
              "    </tr>\n",
              "    <tr>\n",
              "      <th>std</th>\n",
              "      <td>10.2</td>\n",
              "      <td>34641.2</td>\n",
              "    </tr>\n",
              "    <tr>\n",
              "      <th>min</th>\n",
              "      <td>18.0</td>\n",
              "      <td>15000.0</td>\n",
              "    </tr>\n",
              "    <tr>\n",
              "      <th>25%</th>\n",
              "      <td>30.0</td>\n",
              "      <td>43000.0</td>\n",
              "    </tr>\n",
              "    <tr>\n",
              "      <th>50%</th>\n",
              "      <td>37.0</td>\n",
              "      <td>70500.0</td>\n",
              "    </tr>\n",
              "    <tr>\n",
              "      <th>75%</th>\n",
              "      <td>46.0</td>\n",
              "      <td>88000.0</td>\n",
              "    </tr>\n",
              "    <tr>\n",
              "      <th>max</th>\n",
              "      <td>60.0</td>\n",
              "      <td>150000.0</td>\n",
              "    </tr>\n",
              "  </tbody>\n",
              "</table>\n",
              "</div>\n",
              "      <button class=\"colab-df-convert\" onclick=\"convertToInteractive('df-f11b0569-d84e-40cc-859c-62b6f169bee6')\"\n",
              "              title=\"Convert this dataframe to an interactive table.\"\n",
              "              style=\"display:none;\">\n",
              "        \n",
              "  <svg xmlns=\"http://www.w3.org/2000/svg\" height=\"24px\"viewBox=\"0 0 24 24\"\n",
              "       width=\"24px\">\n",
              "    <path d=\"M0 0h24v24H0V0z\" fill=\"none\"/>\n",
              "    <path d=\"M18.56 5.44l.94 2.06.94-2.06 2.06-.94-2.06-.94-.94-2.06-.94 2.06-2.06.94zm-11 1L8.5 8.5l.94-2.06 2.06-.94-2.06-.94L8.5 2.5l-.94 2.06-2.06.94zm10 10l.94 2.06.94-2.06 2.06-.94-2.06-.94-.94-2.06-.94 2.06-2.06.94z\"/><path d=\"M17.41 7.96l-1.37-1.37c-.4-.4-.92-.59-1.43-.59-.52 0-1.04.2-1.43.59L10.3 9.45l-7.72 7.72c-.78.78-.78 2.05 0 2.83L4 21.41c.39.39.9.59 1.41.59.51 0 1.02-.2 1.41-.59l7.78-7.78 2.81-2.81c.8-.78.8-2.07 0-2.86zM5.41 20L4 18.59l7.72-7.72 1.47 1.35L5.41 20z\"/>\n",
              "  </svg>\n",
              "      </button>\n",
              "      \n",
              "  <style>\n",
              "    .colab-df-container {\n",
              "      display:flex;\n",
              "      flex-wrap:wrap;\n",
              "      gap: 12px;\n",
              "    }\n",
              "\n",
              "    .colab-df-convert {\n",
              "      background-color: #E8F0FE;\n",
              "      border: none;\n",
              "      border-radius: 50%;\n",
              "      cursor: pointer;\n",
              "      display: none;\n",
              "      fill: #1967D2;\n",
              "      height: 32px;\n",
              "      padding: 0 0 0 0;\n",
              "      width: 32px;\n",
              "    }\n",
              "\n",
              "    .colab-df-convert:hover {\n",
              "      background-color: #E2EBFA;\n",
              "      box-shadow: 0px 1px 2px rgba(60, 64, 67, 0.3), 0px 1px 3px 1px rgba(60, 64, 67, 0.15);\n",
              "      fill: #174EA6;\n",
              "    }\n",
              "\n",
              "    [theme=dark] .colab-df-convert {\n",
              "      background-color: #3B4455;\n",
              "      fill: #D2E3FC;\n",
              "    }\n",
              "\n",
              "    [theme=dark] .colab-df-convert:hover {\n",
              "      background-color: #434B5C;\n",
              "      box-shadow: 0px 1px 3px 1px rgba(0, 0, 0, 0.15);\n",
              "      filter: drop-shadow(0px 1px 2px rgba(0, 0, 0, 0.3));\n",
              "      fill: #FFFFFF;\n",
              "    }\n",
              "  </style>\n",
              "\n",
              "      <script>\n",
              "        const buttonEl =\n",
              "          document.querySelector('#df-f11b0569-d84e-40cc-859c-62b6f169bee6 button.colab-df-convert');\n",
              "        buttonEl.style.display =\n",
              "          google.colab.kernel.accessAllowed ? 'block' : 'none';\n",
              "\n",
              "        async function convertToInteractive(key) {\n",
              "          const element = document.querySelector('#df-f11b0569-d84e-40cc-859c-62b6f169bee6');\n",
              "          const dataTable =\n",
              "            await google.colab.kernel.invokeFunction('convertToInteractive',\n",
              "                                                     [key], {});\n",
              "          if (!dataTable) return;\n",
              "\n",
              "          const docLinkHtml = 'Like what you see? Visit the ' +\n",
              "            '<a target=\"_blank\" href=https://colab.research.google.com/notebooks/data_table.ipynb>data table notebook</a>'\n",
              "            + ' to learn more about interactive tables.';\n",
              "          element.innerHTML = '';\n",
              "          dataTable['output_type'] = 'display_data';\n",
              "          await google.colab.output.renderOutput(dataTable, element);\n",
              "          const docLink = document.createElement('div');\n",
              "          docLink.innerHTML = docLinkHtml;\n",
              "          element.appendChild(docLink);\n",
              "        }\n",
              "      </script>\n",
              "    </div>\n",
              "  </div>\n",
              "  "
            ]
          },
          "metadata": {},
          "execution_count": 55
        }
      ]
    },
    {
      "cell_type": "code",
      "source": [
        "#describing the statistics for x_train_scaled data\n",
        "np.round(x_train_scaled.describe(),1)"
      ],
      "metadata": {
        "colab": {
          "base_uri": "https://localhost:8080/",
          "height": 300
        },
        "id": "fUmlWvswzVpG",
        "outputId": "4425d68c-bd77-4a56-8ed7-851ef659496a"
      },
      "execution_count": 56,
      "outputs": [
        {
          "output_type": "execute_result",
          "data": {
            "text/plain": [
              "         Age  EstimatedSalary\n",
              "count  280.0            280.0\n",
              "mean     0.0              0.0\n",
              "std      1.0              1.0\n",
              "min     -1.9             -1.6\n",
              "25%     -0.8             -0.8\n",
              "50%     -0.1              0.0\n",
              "75%      0.8              0.5\n",
              "max      2.2              2.3"
            ],
            "text/html": [
              "\n",
              "  <div id=\"df-24dc2951-c8a5-42f4-af08-6c90568ef314\">\n",
              "    <div class=\"colab-df-container\">\n",
              "      <div>\n",
              "<style scoped>\n",
              "    .dataframe tbody tr th:only-of-type {\n",
              "        vertical-align: middle;\n",
              "    }\n",
              "\n",
              "    .dataframe tbody tr th {\n",
              "        vertical-align: top;\n",
              "    }\n",
              "\n",
              "    .dataframe thead th {\n",
              "        text-align: right;\n",
              "    }\n",
              "</style>\n",
              "<table border=\"1\" class=\"dataframe\">\n",
              "  <thead>\n",
              "    <tr style=\"text-align: right;\">\n",
              "      <th></th>\n",
              "      <th>Age</th>\n",
              "      <th>EstimatedSalary</th>\n",
              "    </tr>\n",
              "  </thead>\n",
              "  <tbody>\n",
              "    <tr>\n",
              "      <th>count</th>\n",
              "      <td>280.0</td>\n",
              "      <td>280.0</td>\n",
              "    </tr>\n",
              "    <tr>\n",
              "      <th>mean</th>\n",
              "      <td>0.0</td>\n",
              "      <td>0.0</td>\n",
              "    </tr>\n",
              "    <tr>\n",
              "      <th>std</th>\n",
              "      <td>1.0</td>\n",
              "      <td>1.0</td>\n",
              "    </tr>\n",
              "    <tr>\n",
              "      <th>min</th>\n",
              "      <td>-1.9</td>\n",
              "      <td>-1.6</td>\n",
              "    </tr>\n",
              "    <tr>\n",
              "      <th>25%</th>\n",
              "      <td>-0.8</td>\n",
              "      <td>-0.8</td>\n",
              "    </tr>\n",
              "    <tr>\n",
              "      <th>50%</th>\n",
              "      <td>-0.1</td>\n",
              "      <td>0.0</td>\n",
              "    </tr>\n",
              "    <tr>\n",
              "      <th>75%</th>\n",
              "      <td>0.8</td>\n",
              "      <td>0.5</td>\n",
              "    </tr>\n",
              "    <tr>\n",
              "      <th>max</th>\n",
              "      <td>2.2</td>\n",
              "      <td>2.3</td>\n",
              "    </tr>\n",
              "  </tbody>\n",
              "</table>\n",
              "</div>\n",
              "      <button class=\"colab-df-convert\" onclick=\"convertToInteractive('df-24dc2951-c8a5-42f4-af08-6c90568ef314')\"\n",
              "              title=\"Convert this dataframe to an interactive table.\"\n",
              "              style=\"display:none;\">\n",
              "        \n",
              "  <svg xmlns=\"http://www.w3.org/2000/svg\" height=\"24px\"viewBox=\"0 0 24 24\"\n",
              "       width=\"24px\">\n",
              "    <path d=\"M0 0h24v24H0V0z\" fill=\"none\"/>\n",
              "    <path d=\"M18.56 5.44l.94 2.06.94-2.06 2.06-.94-2.06-.94-.94-2.06-.94 2.06-2.06.94zm-11 1L8.5 8.5l.94-2.06 2.06-.94-2.06-.94L8.5 2.5l-.94 2.06-2.06.94zm10 10l.94 2.06.94-2.06 2.06-.94-2.06-.94-.94-2.06-.94 2.06-2.06.94z\"/><path d=\"M17.41 7.96l-1.37-1.37c-.4-.4-.92-.59-1.43-.59-.52 0-1.04.2-1.43.59L10.3 9.45l-7.72 7.72c-.78.78-.78 2.05 0 2.83L4 21.41c.39.39.9.59 1.41.59.51 0 1.02-.2 1.41-.59l7.78-7.78 2.81-2.81c.8-.78.8-2.07 0-2.86zM5.41 20L4 18.59l7.72-7.72 1.47 1.35L5.41 20z\"/>\n",
              "  </svg>\n",
              "      </button>\n",
              "      \n",
              "  <style>\n",
              "    .colab-df-container {\n",
              "      display:flex;\n",
              "      flex-wrap:wrap;\n",
              "      gap: 12px;\n",
              "    }\n",
              "\n",
              "    .colab-df-convert {\n",
              "      background-color: #E8F0FE;\n",
              "      border: none;\n",
              "      border-radius: 50%;\n",
              "      cursor: pointer;\n",
              "      display: none;\n",
              "      fill: #1967D2;\n",
              "      height: 32px;\n",
              "      padding: 0 0 0 0;\n",
              "      width: 32px;\n",
              "    }\n",
              "\n",
              "    .colab-df-convert:hover {\n",
              "      background-color: #E2EBFA;\n",
              "      box-shadow: 0px 1px 2px rgba(60, 64, 67, 0.3), 0px 1px 3px 1px rgba(60, 64, 67, 0.15);\n",
              "      fill: #174EA6;\n",
              "    }\n",
              "\n",
              "    [theme=dark] .colab-df-convert {\n",
              "      background-color: #3B4455;\n",
              "      fill: #D2E3FC;\n",
              "    }\n",
              "\n",
              "    [theme=dark] .colab-df-convert:hover {\n",
              "      background-color: #434B5C;\n",
              "      box-shadow: 0px 1px 3px 1px rgba(0, 0, 0, 0.15);\n",
              "      filter: drop-shadow(0px 1px 2px rgba(0, 0, 0, 0.3));\n",
              "      fill: #FFFFFF;\n",
              "    }\n",
              "  </style>\n",
              "\n",
              "      <script>\n",
              "        const buttonEl =\n",
              "          document.querySelector('#df-24dc2951-c8a5-42f4-af08-6c90568ef314 button.colab-df-convert');\n",
              "        buttonEl.style.display =\n",
              "          google.colab.kernel.accessAllowed ? 'block' : 'none';\n",
              "\n",
              "        async function convertToInteractive(key) {\n",
              "          const element = document.querySelector('#df-24dc2951-c8a5-42f4-af08-6c90568ef314');\n",
              "          const dataTable =\n",
              "            await google.colab.kernel.invokeFunction('convertToInteractive',\n",
              "                                                     [key], {});\n",
              "          if (!dataTable) return;\n",
              "\n",
              "          const docLinkHtml = 'Like what you see? Visit the ' +\n",
              "            '<a target=\"_blank\" href=https://colab.research.google.com/notebooks/data_table.ipynb>data table notebook</a>'\n",
              "            + ' to learn more about interactive tables.';\n",
              "          element.innerHTML = '';\n",
              "          dataTable['output_type'] = 'display_data';\n",
              "          await google.colab.output.renderOutput(dataTable, element);\n",
              "          const docLink = document.createElement('div');\n",
              "          docLink.innerHTML = docLinkHtml;\n",
              "          element.appendChild(docLink);\n",
              "        }\n",
              "      </script>\n",
              "    </div>\n",
              "  </div>\n",
              "  "
            ]
          },
          "metadata": {},
          "execution_count": 56
        }
      ]
    },
    {
      "cell_type": "markdown",
      "source": [
        "**Inference:** We can clearly compare the statistics for x_train data and x_train_scaled data. The x_train_data is scaled and it can be seen that its mean is 0 and standard deviation is 1 whereas mean in x_train data is 37.9 and the standard deviation is 10.2"
      ],
      "metadata": {
        "id": "M4pgehpFzkRc"
      }
    },
    {
      "cell_type": "code",
      "source": [
        "#effect of scaling\n",
        "fig, (ax1,ax2) = plt.subplots(ncols=2 , figsize=(12,5))\n",
        "\n",
        "ax1.scatter(x_train['Age'],x_train['EstimatedSalary'])\n",
        "ax1.set_title('Before Scaling')\n",
        "ax2.scatter(x_train_scaled['Age'],x_train_scaled['EstimatedSalary'],color = 'red')\n",
        "ax2.set_title('After Scaling')\n",
        "plt.show()\n"
      ],
      "metadata": {
        "colab": {
          "base_uri": "https://localhost:8080/",
          "height": 468
        },
        "id": "ooMQteCeziXj",
        "outputId": "7c0b660d-65fd-4e31-e156-2097714ae859"
      },
      "execution_count": 57,
      "outputs": [
        {
          "output_type": "display_data",
          "data": {
            "text/plain": [
              "<Figure size 1200x500 with 2 Axes>"
            ],
            "image/png": "[encoded data removed]"
          },
          "metadata": {}
        }
      ]
    },
    {
      "cell_type": "markdown",
      "source": [
        "Inference: We can see that the data in plot 1 has a huge scale of age and salary but in the plot 2, the data has been scaled and it has been centered to origin due to the mean being 0."
      ],
      "metadata": {
        "id": "_nTLynbL3pbu"
      }
    },
    {
      "cell_type": "code",
      "source": [
        "fig, (ax1,ax2) = plt.subplots(ncols=2 , figsize=(12,5))\n",
        "\n",
        "#before scaling\n",
        "ax1.set_title('Before Scaling')\n",
        "sns.kdeplot(x_train['Age'],ax=ax1)\n",
        "sns.kdeplot(x_train['EstimatedSalary'],ax=ax1)\n",
        "\n",
        "#after scaling\n",
        "ax2.set_title('After Scaling')\n",
        "sns.kdeplot(x_train_scaled['Age'],ax=ax2)\n",
        "sns.kdeplot(x_train_scaled['EstimatedSalary'],ax=ax2)\n",
        "\n",
        "plt.show()"
      ],
      "metadata": {
        "colab": {
          "base_uri": "https://localhost:8080/",
          "height": 487
        },
        "id": "OSU1piX73Oim",
        "outputId": "855393a4-7059-4177-bb47-1d5b86e055a5"
      },
      "execution_count": 58,
      "outputs": [
        {
          "output_type": "display_data",
          "data": {
            "text/plain": [
              "<Figure size 1200x500 with 2 Axes>"
            ],
            "image/png": "[encoded data removed]"
          },
          "metadata": {}
        }
      ]
    },
    {
      "cell_type": "markdown",
      "source": [
        "**Inference:** In the first plot the line is parallel because the age and salary are on different scales and they are incomparable. Whereas, after scaling the comparision between age and salary is possible and graphs are nearly the same in variaition."
      ],
      "metadata": {
        "id": "00RkWYRl7glG"
      }
    },
    {
      "cell_type": "code",
      "source": [
        "#comparision of distributions\n",
        "fig,(ax1, ax2) = plt.subplots(ncols=2 , figsize=(12,5))\n",
        "\n",
        "#before scaling\n",
        "ax1.set_title('Age distribution before scaling')\n",
        "sns.kdeplot(x_train['Age'],ax=ax1)\n",
        "\n",
        "#after scaling\n",
        "ax2.set_title('Age distribution after scaling')\n",
        "sns.kdeplot(x_train_scaled['Age'],ax=ax2)\n",
        "plt.show()"
      ],
      "metadata": {
        "colab": {
          "base_uri": "https://localhost:8080/",
          "height": 487
        },
        "id": "knIFc9r-7dO-",
        "outputId": "50027353-4a46-4c72-e553-eb7497066c3d"
      },
      "execution_count": 59,
      "outputs": [
        {
          "output_type": "display_data",
          "data": {
            "text/plain": [
              "<Figure size 1200x500 with 2 Axes>"
            ],
            "image/png": "[encoded data removed]"
          },
          "metadata": {}
        }
      ]
    },
    {
      "cell_type": "code",
      "source": [
        "#comparision of distributions\n",
        "fig,(ax1, ax2) = plt.subplots(ncols=2 , figsize=(12,5))\n",
        "\n",
        "#before scaling\n",
        "ax1.set_title('salary distribution before scaling')\n",
        "sns.kdeplot(x_train['EstimatedSalary'],ax=ax1)\n",
        "\n",
        "#after scaling\n",
        "ax2.set_title('salary distribution after scaling')\n",
        "sns.kdeplot(x_train_scaled['EstimatedSalary'],ax=ax2)\n",
        "plt.show()"
      ],
      "metadata": {
        "colab": {
          "base_uri": "https://localhost:8080/",
          "height": 487
        },
        "id": "AeFo7ldR9meW",
        "outputId": "45c41240-73e2-494e-8ac7-4e74861b0679"
      },
      "execution_count": 60,
      "outputs": [
        {
          "output_type": "display_data",
          "data": {
            "text/plain": [
              "<Figure size 1200x500 with 2 Axes>"
            ],
            "image/png": "[encoded data removed]"
          },
          "metadata": {}
        }
      ]
    },
    {
      "cell_type": "markdown",
      "source": [
        "**Inference:** We can see that even after scaling, the distirbution of the data is same, that means standardization does not impact the distribution of the data."
      ],
      "metadata": {
        "id": "hBAekksS9MUV"
      }
    },
    {
      "cell_type": "markdown",
      "source": [
        "**Why is scaling important?**"
      ],
      "metadata": {
        "id": "WrXyYebG96EG"
      }
    },
    {
      "cell_type": "code",
      "source": [
        "from sklearn.linear_model import LogisticRegression"
      ],
      "metadata": {
        "id": "LrAD1SFf9cL6"
      },
      "execution_count": 61,
      "outputs": []
    },
    {
      "cell_type": "code",
      "source": [
        "lr = LogisticRegression()\n",
        "lr_scaled = LogisticRegression()"
      ],
      "metadata": {
        "id": "QIyrK0lh-Kyr"
      },
      "execution_count": 62,
      "outputs": []
    },
    {
      "cell_type": "code",
      "source": [
        "lr.fit(x_train,y_train)\n",
        "lr_scaled.fit(x_train_scaled,y_train)"
      ],
      "metadata": {
        "colab": {
          "base_uri": "https://localhost:8080/",
          "height": 75
        },
        "id": "A5rnk16s-ync",
        "outputId": "b817005b-c3d0-440e-c8f7-fba46b25c61b"
      },
      "execution_count": 63,
      "outputs": [
        {
          "output_type": "execute_result",
          "data": {
            "text/plain": [
              "LogisticRegression()"
            ],
            "text/html": [
              "<style>#sk-container-id-5 {color: black;background-color: white;}#sk-container-id-5 pre{padding: 0;}#sk-container-id-5 div.sk-toggleable {background-color: white;}#sk-container-id-5 label.sk-toggleable__label {cursor: pointer;display: block;width: 100%;margin-bottom: 0;padding: 0.3em;box-sizing: border-box;text-align: center;}#sk-container-id-5 label.sk-toggleable__label-arrow:before {content: \"▸\";float: left;margin-right: 0.25em;color: #696969;}#sk-container-id-5 label.sk-toggleable__label-arrow:hover:before {color: black;}#sk-container-id-5 div.sk-estimator:hover label.sk-toggleable__label-arrow:before {color: black;}#sk-container-id-5 div.sk-toggleable__content {max-height: 0;max-width: 0;overflow: hidden;text-align: left;background-color: #f0f8ff;}#sk-container-id-5 div.sk-toggleable__content pre {margin: 0.2em;color: black;border-radius: 0.25em;background-color: #f0f8ff;}#sk-container-id-5 input.sk-toggleable__control:checked~div.sk-toggleable__content {max-height: 200px;max-width: 100%;overflow: auto;}#sk-container-id-5 input.sk-toggleable__control:checked~label.sk-toggleable__label-arrow:before {content: \"▾\";}#sk-container-id-5 div.sk-estimator input.sk-toggleable__control:checked~label.sk-toggleable__label {background-color: #d4ebff;}#sk-container-id-5 div.sk-label input.sk-toggleable__control:checked~label.sk-toggleable__label {background-color: #d4ebff;}#sk-container-id-5 input.sk-hidden--visually {border: 0;clip: rect(1px 1px 1px 1px);clip: rect(1px, 1px, 1px, 1px);height: 1px;margin: -1px;overflow: hidden;padding: 0;position: absolute;width: 1px;}#sk-container-id-5 div.sk-estimator {font-family: monospace;background-color: #f0f8ff;border: 1px dotted black;border-radius: 0.25em;box-sizing: border-box;margin-bottom: 0.5em;}#sk-container-id-5 div.sk-estimator:hover {background-color: #d4ebff;}#sk-container-id-5 div.sk-parallel-item::after {content: \"\";width: 100%;border-bottom: 1px solid gray;flex-grow: 1;}#sk-container-id-5 div.sk-label:hover label.sk-toggleable__label {background-color: #d4ebff;}#sk-container-id-5 div.sk-serial::before {content: \"\";position: absolute;border-left: 1px solid gray;box-sizing: border-box;top: 0;bottom: 0;left: 50%;z-index: 0;}#sk-container-id-5 div.sk-serial {display: flex;flex-direction: column;align-items: center;background-color: white;padding-right: 0.2em;padding-left: 0.2em;position: relative;}#sk-container-id-5 div.sk-item {position: relative;z-index: 1;}#sk-container-id-5 div.sk-parallel {display: flex;align-items: stretch;justify-content: center;background-color: white;position: relative;}#sk-container-id-5 div.sk-item::before, #sk-container-id-5 div.sk-parallel-item::before {content: \"\";position: absolute;border-left: 1px solid gray;box-sizing: border-box;top: 0;bottom: 0;left: 50%;z-index: -1;}#sk-container-id-5 div.sk-parallel-item {display: flex;flex-direction: column;z-index: 1;position: relative;background-color: white;}#sk-container-id-5 div.sk-parallel-item:first-child::after {align-self: flex-end;width: 50%;}#sk-container-id-5 div.sk-parallel-item:last-child::after {align-self: flex-start;width: 50%;}#sk-container-id-5 div.sk-parallel-item:only-child::after {width: 0;}#sk-container-id-5 div.sk-dashed-wrapped {border: 1px dashed gray;margin: 0 0.4em 0.5em 0.4em;box-sizing: border-box;padding-bottom: 0.4em;background-color: white;}#sk-container-id-5 div.sk-label label {font-family: monospace;font-weight: bold;display: inline-block;line-height: 1.2em;}#sk-container-id-5 div.sk-label-container {text-align: center;}#sk-container-id-5 div.sk-container {/* jupyter's `normalize.less` sets `[hidden] { display: none; }` but bootstrap.min.css set `[hidden] { display: none !important; }` so we also need the `!important` here to be able to override the default hidden behavior on the sphinx rendered scikit-learn.org. See: https://github.com/scikit-learn/scikit-learn/issues/21755 */display: inline-block !important;position: relative;}#sk-container-id-5 div.sk-text-repr-fallback {display: none;}</style><div id=\"sk-container-id-5\" class=\"sk-top-container\"><div class=\"sk-text-repr-fallback\"><pre>LogisticRegression()</pre><b>In a Jupyter environment, please rerun this cell to show the HTML representation or trust the notebook. <br />On GitHub, the HTML representation is unable to render, please try loading this page with nbviewer.org.</b></div><div class=\"sk-container\" hidden><div class=\"sk-item\"><div class=\"sk-estimator sk-toggleable\"><input class=\"sk-toggleable__control sk-hidden--visually\" id=\"sk-estimator-id-5\" type=\"checkbox\" checked><label for=\"sk-estimator-id-5\" class=\"sk-toggleable__label sk-toggleable__label-arrow\">LogisticRegression</label><div class=\"sk-toggleable__content\"><pre>LogisticRegression()</pre></div></div></div></div></div>"
            ]
          },
          "metadata": {},
          "execution_count": 63
        }
      ]
    },
    {
      "cell_type": "code",
      "source": [
        "y_pred = lr.predict(x_test)\n",
        "y_pred_scaled = lr_scaled.predict(x_test_scaled)"
      ],
      "metadata": {
        "id": "7phT69JC-5xS"
      },
      "execution_count": 64,
      "outputs": []
    },
    {
      "cell_type": "code",
      "source": [
        "from sklearn.metrics import accuracy_score"
      ],
      "metadata": {
        "id": "R-FboYwfAET4"
      },
      "execution_count": 65,
      "outputs": []
    },
    {
      "cell_type": "code",
      "source": [
        "print('Actual',accuracy_score(y_test,y_pred))\n",
        "print('Scaled',accuracy_score(y_test, y_pred_scaled))"
      ],
      "metadata": {
        "colab": {
          "base_uri": "https://localhost:8080/"
        },
        "id": "CaUnPCmNAI0B",
        "outputId": "a54b83ef-0361-4958-dbbd-487cb296b794"
      },
      "execution_count": 66,
      "outputs": [
        {
          "output_type": "stream",
          "name": "stdout",
          "text": [
            "Actual 0.6583333333333333\n",
            "Scaled 0.8666666666666667\n"
          ]
        }
      ]
    },
    {
      "cell_type": "markdown",
      "source": [
        "**Inference**: The accuarcy of the scaled data actually increases in the Logistic Regression model as compared to the non scaled data."
      ],
      "metadata": {
        "id": "vecwqpaxA3cL"
      }
    },
    {
      "cell_type": "code",
      "source": [
        "#there is no effect of scaling on Decision Tree algorithm\n",
        "from sklearn.tree import DecisionTreeClassifier"
      ],
      "metadata": {
        "id": "irH_9omSA0ic"
      },
      "execution_count": 67,
      "outputs": []
    },
    {
      "cell_type": "code",
      "source": [
        "dt = DecisionTreeClassifier()\n",
        "dt_scaled = DecisionTreeClassifier()"
      ],
      "metadata": {
        "id": "P2ebmBJqESZf"
      },
      "execution_count": 68,
      "outputs": []
    },
    {
      "cell_type": "code",
      "source": [
        "dt.fit(x_train , y_train)\n",
        "dt_scaled.fit(x_train_scaled , y_train)"
      ],
      "metadata": {
        "colab": {
          "base_uri": "https://localhost:8080/",
          "height": 75
        },
        "id": "E26O2OVzEYNf",
        "outputId": "d3b4ada0-48c5-4cf6-9419-bb4000b285f0"
      },
      "execution_count": 69,
      "outputs": [
        {
          "output_type": "execute_result",
          "data": {
            "text/plain": [
              "DecisionTreeClassifier()"
            ],
            "text/html": [
              "<style>#sk-container-id-6 {color: black;background-color: white;}#sk-container-id-6 pre{padding: 0;}#sk-container-id-6 div.sk-toggleable {background-color: white;}#sk-container-id-6 label.sk-toggleable__label {cursor: pointer;display: block;width: 100%;margin-bottom: 0;padding: 0.3em;box-sizing: border-box;text-align: center;}#sk-container-id-6 label.sk-toggleable__label-arrow:before {content: \"▸\";float: left;margin-right: 0.25em;color: #696969;}#sk-container-id-6 label.sk-toggleable__label-arrow:hover:before {color: black;}#sk-container-id-6 div.sk-estimator:hover label.sk-toggleable__label-arrow:before {color: black;}#sk-container-id-6 div.sk-toggleable__content {max-height: 0;max-width: 0;overflow: hidden;text-align: left;background-color: #f0f8ff;}#sk-container-id-6 div.sk-toggleable__content pre {margin: 0.2em;color: black;border-radius: 0.25em;background-color: #f0f8ff;}#sk-container-id-6 input.sk-toggleable__control:checked~div.sk-toggleable__content {max-height: 200px;max-width: 100%;overflow: auto;}#sk-container-id-6 input.sk-toggleable__control:checked~label.sk-toggleable__label-arrow:before {content: \"▾\";}#sk-container-id-6 div.sk-estimator input.sk-toggleable__control:checked~label.sk-toggleable__label {background-color: #d4ebff;}#sk-container-id-6 div.sk-label input.sk-toggleable__control:checked~label.sk-toggleable__label {background-color: #d4ebff;}#sk-container-id-6 input.sk-hidden--visually {border: 0;clip: rect(1px 1px 1px 1px);clip: rect(1px, 1px, 1px, 1px);height: 1px;margin: -1px;overflow: hidden;padding: 0;position: absolute;width: 1px;}#sk-container-id-6 div.sk-estimator {font-family: monospace;background-color: #f0f8ff;border: 1px dotted black;border-radius: 0.25em;box-sizing: border-box;margin-bottom: 0.5em;}#sk-container-id-6 div.sk-estimator:hover {background-color: #d4ebff;}#sk-container-id-6 div.sk-parallel-item::after {content: \"\";width: 100%;border-bottom: 1px solid gray;flex-grow: 1;}#sk-container-id-6 div.sk-label:hover label.sk-toggleable__label {background-color: #d4ebff;}#sk-container-id-6 div.sk-serial::before {content: \"\";position: absolute;border-left: 1px solid gray;box-sizing: border-box;top: 0;bottom: 0;left: 50%;z-index: 0;}#sk-container-id-6 div.sk-serial {display: flex;flex-direction: column;align-items: center;background-color: white;padding-right: 0.2em;padding-left: 0.2em;position: relative;}#sk-container-id-6 div.sk-item {position: relative;z-index: 1;}#sk-container-id-6 div.sk-parallel {display: flex;align-items: stretch;justify-content: center;background-color: white;position: relative;}#sk-container-id-6 div.sk-item::before, #sk-container-id-6 div.sk-parallel-item::before {content: \"\";position: absolute;border-left: 1px solid gray;box-sizing: border-box;top: 0;bottom: 0;left: 50%;z-index: -1;}#sk-container-id-6 div.sk-parallel-item {display: flex;flex-direction: column;z-index: 1;position: relative;background-color: white;}#sk-container-id-6 div.sk-parallel-item:first-child::after {align-self: flex-end;width: 50%;}#sk-container-id-6 div.sk-parallel-item:last-child::after {align-self: flex-start;width: 50%;}#sk-container-id-6 div.sk-parallel-item:only-child::after {width: 0;}#sk-container-id-6 div.sk-dashed-wrapped {border: 1px dashed gray;margin: 0 0.4em 0.5em 0.4em;box-sizing: border-box;padding-bottom: 0.4em;background-color: white;}#sk-container-id-6 div.sk-label label {font-family: monospace;font-weight: bold;display: inline-block;line-height: 1.2em;}#sk-container-id-6 div.sk-label-container {text-align: center;}#sk-container-id-6 div.sk-container {/* jupyter's `normalize.less` sets `[hidden] { display: none; }` but bootstrap.min.css set `[hidden] { display: none !important; }` so we also need the `!important` here to be able to override the default hidden behavior on the sphinx rendered scikit-learn.org. See: https://github.com/scikit-learn/scikit-learn/issues/21755 */display: inline-block !important;position: relative;}#sk-container-id-6 div.sk-text-repr-fallback {display: none;}</style><div id=\"sk-container-id-6\" class=\"sk-top-container\"><div class=\"sk-text-repr-fallback\"><pre>DecisionTreeClassifier()</pre><b>In a Jupyter environment, please rerun this cell to show the HTML representation or trust the notebook. <br />On GitHub, the HTML representation is unable to render, please try loading this page with nbviewer.org.</b></div><div class=\"sk-container\" hidden><div class=\"sk-item\"><div class=\"sk-estimator sk-toggleable\"><input class=\"sk-toggleable__control sk-hidden--visually\" id=\"sk-estimator-id-6\" type=\"checkbox\" checked><label for=\"sk-estimator-id-6\" class=\"sk-toggleable__label sk-toggleable__label-arrow\">DecisionTreeClassifier</label><div class=\"sk-toggleable__content\"><pre>DecisionTreeClassifier()</pre></div></div></div></div></div>"
            ]
          },
          "metadata": {},
          "execution_count": 69
        }
      ]
    },
    {
      "cell_type": "code",
      "source": [
        "y_pred = dt.predict(x_test)\n",
        "y_pred_scaled = dt_scaled.predict(x_test_scaled)"
      ],
      "metadata": {
        "id": "FDBOS-9YEdGW"
      },
      "execution_count": 70,
      "outputs": []
    },
    {
      "cell_type": "code",
      "source": [
        "print('Actual',accuracy_score(y_test,y_pred))\n",
        "print('Scaled',accuracy_score(y_test,y_pred_scaled))"
      ],
      "metadata": {
        "colab": {
          "base_uri": "https://localhost:8080/"
        },
        "id": "K7xSyUwmEtTN",
        "outputId": "46413bf0-957f-4f13-81e6-c1cf3b909f83"
      },
      "execution_count": 71,
      "outputs": [
        {
          "output_type": "stream",
          "name": "stdout",
          "text": [
            "Actual 0.875\n",
            "Scaled 0.8666666666666667\n"
          ]
        }
      ]
    },
    {
      "cell_type": "markdown",
      "source": [
        "Also, there is no effect of outliers on scaling and vice versa."
      ],
      "metadata": {
        "id": "scHc13b5F8dQ"
      }
    },
    {
      "cell_type": "markdown",
      "source": [
        "**When to use Standardization?**\n",
        "\n",
        "We must blindly apply standardization while using these algoritms:\n",
        "\n",
        "\n",
        "1.   K-Means\n",
        "2.   K-Nearest Neighbors\n",
        "3.   Principal Component Analysis\n",
        "4.   Artificial Nueral Network\n",
        "5.   Gradient Descent\n",
        "\n"
      ],
      "metadata": {
        "id": "8NbHvaIJGKoA"
      }
    },
    {
      "cell_type": "markdown",
      "source": [
        "**When is Standardization not needed much?**\n",
        "\n",
        "\n",
        "1.   Decision Tree\n",
        "2.   Random Forest\n",
        "3.   Gradient Boost\n",
        "4.   XG Boost\n",
        "\n"
      ],
      "metadata": {
        "id": "5uETyW6NG08a"
      }
    },
    {
      "cell_type": "code",
      "source": [],
      "metadata": {
        "id": "LpdSddWsFnci"
      },
      "execution_count": 71,
      "outputs": []
    }
  ]
}